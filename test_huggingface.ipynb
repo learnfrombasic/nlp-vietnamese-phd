{
 "cells": [
  {
   "cell_type": "code",
   "execution_count": 4,
   "id": "5c91bdf0",
   "metadata": {},
   "outputs": [
    {
     "data": {
      "text/plain": [
       "[TokenClassificationOutputElement(end=123, score=0.9991951, start=109, word='Nguyễn Văn Tảo', entity=None, entity_group='PERSON'),\n",
       " TokenClassificationOutputElement(end=161, score=0.9992889, start=138, word='Công an tỉnh Tiền Giang', entity=None, entity_group='ORGANIZATION'),\n",
       " TokenClassificationOutputElement(end=215, score=0.99907416, start=191, word='Công an huyện Châu Thành', entity=None, entity_group='ORGANIZATION')]"
      ]
     },
     "execution_count": 4,
     "metadata": {},
     "output_type": "execute_result"
    }
   ],
   "source": [
    "import os\n",
    "from huggingface_hub import InferenceClient\n",
    "\n",
    "client = InferenceClient(\n",
    "    provider=\"hf-inference\",\n",
    "    api_key=os.environ[\"HF_TOKEN\"],\n",
    ")\n",
    "model_name = \"NlpHUST/ner-vietnamese-electra-base\"\n",
    "query = \"Liên quan vụ việc CSGT bị tố đánh dân, trúng một cháu nhỏ đang ngủ, đang lan truyền trên mạng xã hội, Đại tá Nguyễn Văn Tảo, Phó Giám đốc Công an tỉnh Tiền Giang vừa có cuộc họp cùng Chỉ huy Công an huyện Châu Thành và một số đơn vị nghiệp vụ cấp tỉnh để chỉ đạo làm rõ thông tin.\"\n",
    "\n",
    "\n",
    "result = client.token_classification(\n",
    "    query,\n",
    "    model=model_name,\n",
    ")\n",
    "\n",
    "result"
   ]
  },
  {
   "cell_type": "code",
   "execution_count": null,
   "id": "3291518f",
   "metadata": {},
   "outputs": [
    {
     "data": {
      "text/plain": [
       "[]"
      ]
     },
     "execution_count": 4,
     "metadata": {},
     "output_type": "execute_result"
    }
   ],
   "source": [
    "# from transformers import AutoTokenizer, AutoModelForTokenClassification\n",
    "# from transformers import pipeline\n",
    "\n",
    "# tokenizer = AutoTokenizer.from_pretrained(\"NlpHUST/ner-vietnamese-electra-base\")\n",
    "# model = AutoModelForTokenClassification.from_pretrained(\"NlpHUST/ner-vietnamese-electra-base\")\n",
    "\n",
    "# nlp = pipeline(\"ner\", model=model, tokenizer=tokenizer)\n",
    "# example = \"Liên quan vụ việc CSGT bị tố đánh dân, trúng một cháu nhỏ đang ngủ, đang lan truyền trên mạng xã hội, Đại tá Nguyễn Văn Tảo, Phó Giám đốc Công an tỉnh Tiền Giang vừa có cuộc họp cùng Chỉ huy Công an huyện Châu Thành và một số đơn vị nghiệp vụ cấp tỉnh để chỉ đạo làm rõ thông tin.\"\n",
    "\n",
    "# ner_results = nlp(example)\n",
    "# print(ner_results)\n",
    "# model_name = \"undertheseanlp/vietnamese-ner-v1.4.0a2\""
   ]
  },
  {
   "cell_type": "code",
   "execution_count": null,
   "id": "872319ea",
   "metadata": {},
   "outputs": [],
   "source": []
  },
  {
   "cell_type": "code",
   "execution_count": null,
   "id": "ab6aac67",
   "metadata": {},
   "outputs": [],
   "source": []
  }
 ],
 "metadata": {
  "kernelspec": {
   "display_name": ".venv",
   "language": "python",
   "name": "python3"
  },
  "language_info": {
   "codemirror_mode": {
    "name": "ipython",
    "version": 3
   },
   "file_extension": ".py",
   "mimetype": "text/x-python",
   "name": "python",
   "nbconvert_exporter": "python",
   "pygments_lexer": "ipython3",
   "version": "3.10.16"
  }
 },
 "nbformat": 4,
 "nbformat_minor": 5
}
