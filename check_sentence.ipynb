{
 "cells": [
  {
   "cell_type": "code",
   "execution_count": 2,
   "id": "2fa67069",
   "metadata": {},
   "outputs": [],
   "source": [
    "import xml.etree.ElementTree as ET\n",
    "\n",
    "\n",
    "def count_sentences(xml_file_path):\n",
    "    # Parse the XML file\n",
    "    tree = ET.parse(xml_file_path)\n",
    "    root = tree.getroot()\n",
    "\n",
    "    # Find all STC elements (sentences)\n",
    "    sentences = root.findall(\".//STC\")\n",
    "\n",
    "    # Count the sentences\n",
    "    total_sentences = len(sentences)\n",
    "\n",
    "    # Count sentences per section\n",
    "    sections = {}\n",
    "    for section in root.findall(\".//SECT\"):\n",
    "        section_name = section.get(\"NAME\", \"Unknown\")\n",
    "        section_sentences = section.findall(\".//STC\")\n",
    "        sections[section_name] = len(section_sentences)\n",
    "\n",
    "    return total_sentences, sections"
   ]
  },
  {
   "cell_type": "code",
   "execution_count": 3,
   "id": "e659906c",
   "metadata": {},
   "outputs": [
    {
     "name": "stdout",
     "output_type": "stream",
     "text": [
      "Total number of sentences: 2793\n",
      "\n",
      "Number of sentences per section:\n"
     ]
    }
   ],
   "source": [
    "# Path to your XML file\n",
    "xml_file = \"/home/octoopt/workspace/projects/learn-from-basics/nlp-vietnamese-phd/result/28_06/PAS_003_nam_hoa_kinh.xml\"\n",
    "\n",
    "# Get the counts\n",
    "total, section_counts = count_sentences(xml_file)\n",
    "\n",
    "print(f\"Total number of sentences: {total}\")\n",
    "print(\"\\nNumber of sentences per section:\")\n",
    "for section, count in section_counts.items():\n",
    "    print(f\"- {section}: {count} sentences\")"
   ]
  },
  {
   "cell_type": "code",
   "execution_count": 4,
   "id": "04938ce5",
   "metadata": {},
   "outputs": [
    {
     "name": "stdout",
     "output_type": "stream",
     "text": [
      "Total number of sentences: 5553\n",
      "\n",
      "Number of sentences per section:\n",
      "- TIÊU DIÊU DU: 437 sentences\n",
      "- LỜI NÓI ĐẦU: 2 sentences\n",
      "- TIỂU DẪN: 893 sentences\n",
      "- NỘI THIÊN: 0 sentences\n",
      "- TỀ VẬT LUẬN: 857 sentences\n",
      "- DƯỠNG SINH CHỦ: 232 sentences\n",
      "- ĐỨC SUNG PHÙ: 331 sentences\n",
      "- ĐẠI TÔNG SƯ: 640 sentences\n",
      "- ỨNG ĐẾ VƯƠNG: 324 sentences\n",
      "- NGOẠI THIÊN: 0 sentences\n"
     ]
    }
   ],
   "source": [
    "# Path to your XML file\n",
    "xml_file = \"/home/octoopt/workspace/projects/learn-from-basics/nlp-vietnamese-phd/result/28_06/PAS_003_Trang-tu-nam-hoa-kinh.xml\"\n",
    "\n",
    "# Get the counts\n",
    "total, section_counts = count_sentences(xml_file)\n",
    "\n",
    "print(f\"Total number of sentences: {total}\")\n",
    "print(\"\\nNumber of sentences per section:\")\n",
    "for section, count in section_counts.items():\n",
    "    print(f\"- {section}: {count} sentences\")"
   ]
  },
  {
   "cell_type": "code",
   "execution_count": 6,
   "id": "4f98227e",
   "metadata": {},
   "outputs": [
    {
     "name": "stdout",
     "output_type": "stream",
     "text": [
      "Total number of sentences: 7843\n",
      "\n",
      "Number of sentences per section:\n",
      "- Mở đầu: 2 sentences\n",
      "- chương m: 12 sentences\n",
      "- CHƯƠNG I: 13 sentences\n",
      "- chương 46: 24 sentences\n",
      "- chương 63: 33 sentences\n",
      "- chương c: 34 sentences\n",
      "- chương XXXI: 13 sentences\n",
      "- chương X: 122 sentences\n",
      "- chương XXX: 45 sentences\n",
      "- CHƯƠNG II: 18 sentences\n",
      "- chương V: 84 sentences\n",
      "- chương XXII: 10 sentences\n",
      "- chương M: 9 sentences\n",
      "- Chương I: 10 sentences\n",
      "- Chương V: 10 sentences\n",
      "- chương Vi: 28 sentences\n",
      "- chương I: 182 sentences\n",
      "- chương VII: 25 sentences\n",
      "- chương XII: 8 sentences\n",
      "- CHƯƠNG III: 74 sentences\n",
      "- chương XXVII: 156 sentences\n",
      "- chương 1: 8 sentences\n",
      "- chương XXXII: 46 sentences\n",
      "- CHƯƠNG IV: 230 sentences\n",
      "- chương 44: 10 sentences\n",
      "- chương XXXIII: 6 sentences\n",
      "- chương 40: 60 sentences\n",
      "- chương XVIIL: 108 sentences\n",
      "- chương VI: 155 sentences\n",
      "- chương D: 6 sentences\n",
      "- chương 3: 18 sentences\n",
      "- chương 37: 11 sentences\n",
      "- chương VIII: 13 sentences\n",
      "- chương 18: 15 sentences\n",
      "- chương 2: 88 sentences\n",
      "- Chương D: 47 sentences\n",
      "- chương 1l: 9 sentences\n",
      "- chương III: 14 sentences\n",
      "- chương L: 136 sentences\n",
      "- CHƯƠNG V: 242 sentences\n",
      "- chương II: 34 sentences\n",
      "- CHƯƠNG VII: 116 sentences\n",
      "- Chương c: 58 sentences\n",
      "- CHƯƠNG VIII: 13 sentences\n",
      "- CHƯƠNG IX: 37 sentences\n",
      "- CHƯƠNG X: 63 sentences\n",
      "- CHƯƠNG XI: 179 sentences\n",
      "- chương 80: 9 sentences\n",
      "- CHƯƠNG XII: 45 sentences\n",
      "- chương XIV: 8 sentences\n",
      "- CHƯƠNG XIII: 190 sentences\n",
      "- CHƯƠNG XIV: 94 sentences\n",
      "- chương XI: 26 sentences\n",
      "- CHƯƠNG XV: 33 sentences\n",
      "- CHƯƠNG XVI: 59 sentences\n",
      "- CHƯƠNG XVII: 18 sentences\n",
      "- Chương 13: 10 sentences\n",
      "- CHƯƠNG XIX: 165 sentences\n",
      "- chương C: 69 sentences\n",
      "- CHƯƠNG XX: 208 sentences\n",
      "- CHƯƠNG XXI: 195 sentences\n",
      "- CHƯƠNG XXII: 38 sentences\n",
      "- Chương C: 16 sentences\n",
      "- CHƯƠNG XXIV: 264 sentences\n",
      "- CHƯƠNG XXV: 216 sentences\n",
      "- CHƯƠNG XXVI: 153 sentences\n",
      "- CHƯƠNG XXVII: 28 sentences\n",
      "- chương l: 16 sentences\n",
      "- CHƯƠNG XXIX: 74 sentences\n",
      "- CHƯƠNG XXX: 63 sentences\n",
      "- CHƯƠNG XXXI: 34 sentences\n",
      "- CHƯƠNG XXXII: 167 sentences\n",
      "- Chương XXXII: 8 sentences\n",
      "- CHƯƠNG VI: 22 sentences\n"
     ]
    }
   ],
   "source": [
    "# Path to your XML file\n",
    "xml_file = \"/home/octoopt/workspace/projects/learn-from-basics/nlp-vietnamese-phd/result/28_06/PAS_003_nam_hoa_kinh_anh.xml\"\n",
    "\n",
    "# Get the counts\n",
    "total, section_counts = count_sentences(xml_file)\n",
    "\n",
    "print(f\"Total number of sentences: {total}\")\n",
    "print(\"\\nNumber of sentences per section:\")\n",
    "for section, count in section_counts.items():\n",
    "    print(f\"- {section}: {count} sentences\")"
   ]
  }
 ],
 "metadata": {
  "kernelspec": {
   "display_name": ".venv",
   "language": "python",
   "name": "python3"
  },
  "language_info": {
   "codemirror_mode": {
    "name": "ipython",
    "version": 3
   },
   "file_extension": ".py",
   "mimetype": "text/x-python",
   "name": "python",
   "nbconvert_exporter": "python",
   "pygments_lexer": "ipython3",
   "version": "3.10.16"
  }
 },
 "nbformat": 4,
 "nbformat_minor": 5
}
